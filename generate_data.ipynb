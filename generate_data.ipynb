{
 "cells": [
  {
   "cell_type": "markdown",
   "metadata": {},
   "source": [
    "## 生成数据集\n",
    "\n",
    "这里先固定好整个**SFC**的结构，也就是一共几类**VNF**，以及每一类**SFC**的实例个数，以及**QOS**属性的数量和前向属性的个数**K**。\n",
    "\n",
    "可以变动的参数有：\n",
    "- 每一个**VNF**当前的**QOS**取值\n",
    "- 每一个属性的权重\n",
    "\n",
    "--------------------------\n",
    "\n",
    "那么生成的样本的**输入属性**就是:所有**VNF**当前的**QOS**，以及每一个**属性**的权重组成的一个向量\n",
    "\n",
    "样本的**标签**为每一类VNF的选择。\n",
    "\n",
    "--------------------------\n",
    "\n",
    "<div align=\"center\"><img src=\"sfc_show.png\" style=\"zoom:65%\" title=\"SFC示意图\" /></div>"
   ]
  },
  {
   "cell_type": "code",
   "execution_count": null,
   "metadata": {},
   "outputs": [],
   "source": [
    "import numpy as np\n",
    "import sfc_model as sfc"
   ]
  },
  {
   "cell_type": "markdown",
   "metadata": {},
   "source": [
    "### 确定到网络的结构\n",
    "\n",
    "```python\n",
    "__init__(self, num_i = [2, 3], scope_L = [[1, 1000],[1, 100]], K = 1)\n",
    "```\n",
    "\n",
    "`num_i`为每一类**VNF**的数量\n",
    "\n",
    "`scope_L` 为每一个**QOS**属性的取值范围\n",
    "\n",
    "`K` 为前向属性的数量"
   ]
  },
  {
   "cell_type": "code",
   "execution_count": null,
   "metadata": {},
   "outputs": [],
   "source": []
  },
  {
   "cell_type": "code",
   "execution_count": null,
   "metadata": {},
   "outputs": [],
   "source": [
    "num_i = [3,4,5]\n",
    "\n",
    "scope_L = [[1, 1000],[1, 100],[1,100],[1,1000]]\n",
    "\n",
    "K = 2\n",
    "\n",
    "my_model = sfc.sfc_model(num_i = num_i, scope_L = scope_L, K = K)"
   ]
  },
  {
   "cell_type": "markdown",
   "metadata": {},
   "source": [
    "### 随机QOS请求\n",
    "\n",
    "首先确定出**QOS**请求的**范围**\n",
    "\n",
    "注意到应该有**QOS**不能被**SFC**所满足\n",
    "\n",
    "那么这里将它的范围上限定义为属性的上限乘上**VNF**的种类数，下限就为属性的下限。\n"
   ]
  },
  {
   "cell_type": "code",
   "execution_count": null,
   "metadata": {},
   "outputs": [],
   "source": [
    "def random_qos( N = 3, scope_L = [[1, 1000],[1, 100],[1,100],[1,1000]], K = 2 ):\n",
    "    L = len(scope_L)\n",
    "    qos = np.zeros(L)\n",
    "    for i in range(L):\n",
    "        qos[i] = np.random.rand(1)[0] * (scope_L[i][1] * N - scope_L[i][0]) + scope_L[i][0]\n",
    "#         if i < K:\n",
    "#             qos[i] = np.random.rand(1)[0] * (scope_L[i][1] * N - scope_L[i][0]) + scope_L[i][0]\n",
    "#         else:\n",
    "#             qos[i] = np.random.rand(1)[0] * (scope_L[i][1] * N - scope_L[i][0]) + scope_L[i][0]\n",
    "    \n",
    "    return qos"
   ]
  },
  {
   "cell_type": "markdown",
   "metadata": {},
   "source": [
    "### 生成样本写入文件\n",
    "\n",
    "先生成一百万条样本试一下\n",
    "\n",
    "写成**CSV**文件"
   ]
  },
  {
   "cell_type": "code",
   "execution_count": null,
   "metadata": {},
   "outputs": [],
   "source": [
    "## 把 path 变成一个分类问题\n",
    "\n",
    "N = 3\n",
    "back_muti = np.zeros(N)\n",
    "category = 1\n",
    "for i in range(N):\n",
    "    back_muti[i] = 1\n",
    "    category = category * num_i[i]\n",
    "    for j in range(i+1, N):\n",
    "        back_muti[i] = back_muti[i] * num_i[j]\n",
    "\n",
    "def get_category(path):\n",
    "    if path is None:\n",
    "        return category\n",
    "    \n",
    "    cate = 0\n",
    "    for i in range(N):\n",
    "        cate = cate + path[i] * back_muti[i]\n",
    "    \n",
    "    return int(cate)"
   ]
  },
  {
   "cell_type": "code",
   "execution_count": null,
   "metadata": {},
   "outputs": [],
   "source": [
    "T = 100 \n",
    "N = 3\n",
    "num_i = [3,4,5]\n",
    "samples = np.zeros((T, len(scope_L)*np.sum(num_i) + len(scope_L)*2))\n",
    "# labels = np.zeros((T, len(num_i) + np.sum(num_i)))\n",
    "labels = np.zeros((T, category+1))\n",
    "for t in range(T):\n",
    "    qos = random_qos()\n",
    "    my_model.construct()\n",
    "    path, _ = my_model.serveQOS(random_qos())\n",
    "    sample = qos\n",
    "    sample = np.hstack((sample, my_model.W))\n",
    "    sample = np.hstack((sample, my_model.qoses.reshape(-1)))\n",
    "    label = np.zeros(category+1)\n",
    "    idx = get_category(path)\n",
    "    label[idx] = 1\n",
    "#     for n in range(N):\n",
    "#         one_hot = np.zeros(num_i[n] + 1)\n",
    "#         if path is None:\n",
    "#             one_hot[num_i[n]] = 1\n",
    "#         else:\n",
    "#             one_hot[path[n]] = 1\n",
    "            \n",
    "#         if label is None:\n",
    "#             label = one_hot\n",
    "#         else:\n",
    "#             label = np.hstack((label, one_hot))            \n",
    "    samples[t] = sample.reshape(1,-1)\n",
    "    labels[t] = label.reshape(1,-1)\n",
    "    \n",
    "    if t % 1000 == 0:\n",
    "        print(t)"
   ]
  },
  {
   "cell_type": "code",
   "execution_count": null,
   "metadata": {},
   "outputs": [],
   "source": [
    "np.savetxt('data/X_train.csv', samples, delimiter = ',')\n",
    "np.savetxt('data/Y_train.csv', labels, delimiter = ',')"
   ]
  },
  {
   "cell_type": "code",
   "execution_count": null,
   "metadata": {},
   "outputs": [],
   "source": []
  },
  {
   "cell_type": "code",
   "execution_count": null,
   "metadata": {},
   "outputs": [],
   "source": []
  },
  {
   "cell_type": "code",
   "execution_count": null,
   "metadata": {},
   "outputs": [],
   "source": []
  }
 ],
 "metadata": {
  "kernelspec": {
   "display_name": "Python 3",
   "language": "python",
   "name": "python3"
  },
  "language_info": {
   "codemirror_mode": {
    "name": "ipython",
    "version": 3
   },
   "file_extension": ".py",
   "mimetype": "text/x-python",
   "name": "python",
   "nbconvert_exporter": "python",
   "pygments_lexer": "ipython3",
   "version": "3.6.1"
  }
 },
 "nbformat": 4,
 "nbformat_minor": 2
}
