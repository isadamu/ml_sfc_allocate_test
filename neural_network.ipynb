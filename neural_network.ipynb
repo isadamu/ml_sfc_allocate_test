{
 "cells": [
  {
   "cell_type": "markdown",
   "metadata": {},
   "source": [
    "##  训练神经网络\n",
    "\n",
    "直接使用**keras**，使用一个三层的神经网络进行尝试"
   ]
  },
  {
   "cell_type": "code",
   "execution_count": 1,
   "metadata": {},
   "outputs": [
    {
     "name": "stderr",
     "output_type": "stream",
     "text": [
      "Using TensorFlow backend.\n"
     ]
    }
   ],
   "source": [
    "from __future__ import absolute_import\n",
    "from __future__ import division\n",
    "from __future__ import print_function\n",
    "\n",
    "import numpy as np\n",
    "import tensorflow as tf\n",
    "from keras import layers\n",
    "from keras.layers import Input, Dense, Activation, BatchNormalization, Dropout\n",
    "from keras.models import Model\n",
    "from keras.initializers import glorot_uniform"
   ]
  },
  {
   "cell_type": "code",
   "execution_count": 2,
   "metadata": {},
   "outputs": [],
   "source": [
    "def my_net(input_len = (56,), output_len = 61):\n",
    "    \n",
    "    X_input = Input(input_len)\n",
    "    X = Dense(1000, activation='relu', name='fc1', kernel_initializer = glorot_uniform())(X_input)\n",
    "    X = BatchNormalization(name = 'bn1')(X)\n",
    "    \n",
    "    X = Dense(1000, activation='relu', name='fc2', kernel_initializer = glorot_uniform())(X)\n",
    "    X = BatchNormalization(name = 'bn2')(X)\n",
    "    \n",
    "    X = Dense(1000, activation='relu', name='fc3', kernel_initializer = glorot_uniform())(X)\n",
    "    X = BatchNormalization(name = 'bn3')(X)\n",
    "    \n",
    "    X = Dropout(0.7)(X)\n",
    "    \n",
    "    X = Dense(output_len, activation='softmax', name='output', kernel_initializer = glorot_uniform())(X)\n",
    "\n",
    "    model = Model(inputs = X_input, outputs = X, name='DemoNet')\n",
    "    \n",
    "    return model"
   ]
  },
  {
   "cell_type": "code",
   "execution_count": 3,
   "metadata": {},
   "outputs": [
    {
     "name": "stdout",
     "output_type": "stream",
     "text": [
      "(7000, 56) (7000, 61) (3000, 56) (3000, 61)\n"
     ]
    }
   ],
   "source": [
    "# 读取数据\n",
    "\n",
    "all_x = np.loadtxt(open(\"data/X_train_1.csv\",\"rb\"),delimiter=\",\") \n",
    "all_y = np.loadtxt(open(\"data/Y_train_1.csv\",\"rb\"),delimiter=\",\")\n",
    "\n",
    "all_x = all_x - np.mean(all_x, axis = 0)\n",
    "\n",
    "split_num = int(all_x.shape[0]*0.7)\n",
    "\n",
    "X_train = all_x[:split_num]\n",
    "Y_train = all_y[:split_num]\n",
    "\n",
    "X_test = all_x[split_num:]\n",
    "Y_test = all_y[split_num:]\n",
    "\n",
    "print(X_train.shape, Y_train.shape, X_test.shape, Y_test.shape )"
   ]
  },
  {
   "cell_type": "code",
   "execution_count": 4,
   "metadata": {},
   "outputs": [
    {
     "name": "stdout",
     "output_type": "stream",
     "text": [
      "Epoch 1/10\n",
      "7000/7000 [==============================] - 8s 1ms/step - loss: 5.8253 - acc: 0.0256\n",
      "Epoch 2/10\n",
      "7000/7000 [==============================] - 8s 1ms/step - loss: 4.9349 - acc: 0.0563\n",
      "Epoch 3/10\n",
      "7000/7000 [==============================] - 8s 1ms/step - loss: 4.3314 - acc: 0.0919\n",
      "Epoch 4/10\n",
      "7000/7000 [==============================] - 8s 1ms/step - loss: 3.7860 - acc: 0.1327\n",
      "Epoch 5/10\n",
      "7000/7000 [==============================] - 8s 1ms/step - loss: 3.2651 - acc: 0.1940\n",
      "Epoch 6/10\n",
      "7000/7000 [==============================] - 8s 1ms/step - loss: 2.9141 - acc: 0.2316\n",
      "Epoch 7/10\n",
      "7000/7000 [==============================] - 8s 1ms/step - loss: 2.6874 - acc: 0.2724\n",
      "Epoch 8/10\n",
      "7000/7000 [==============================] - 8s 1ms/step - loss: 2.5211 - acc: 0.3003\n",
      "Epoch 9/10\n",
      "7000/7000 [==============================] - 8s 1ms/step - loss: 2.3719 - acc: 0.3220\n",
      "Epoch 10/10\n",
      "7000/7000 [==============================] - 8s 1ms/step - loss: 2.2586 - acc: 0.3453\n"
     ]
    },
    {
     "data": {
      "text/plain": [
       "<keras.callbacks.History at 0x15ddfed2940>"
      ]
     },
     "execution_count": 4,
     "metadata": {},
     "output_type": "execute_result"
    }
   ],
   "source": [
    "model = my_net(input_len = (56,), output_len = 61)\n",
    "\n",
    "model.compile(optimizer='adam', loss='categorical_crossentropy', metrics=['accuracy'])\n",
    "\n",
    "model.fit(X_train, Y_train, epochs = 10, batch_size = 32, verbose = 1)"
   ]
  },
  {
   "cell_type": "code",
   "execution_count": 5,
   "metadata": {},
   "outputs": [
    {
     "name": "stdout",
     "output_type": "stream",
     "text": [
      "3000/3000 [==============================] - 0s 159us/step\n",
      "Test Loss = 2.78697669474\n",
      "Test Accuracy = 0.265333333254\n"
     ]
    }
   ],
   "source": [
    "preds = model.evaluate(X_test, Y_test, verbose=1)\n",
    "print (\"Test Loss = \" + str(preds[0]))\n",
    "print (\"Test Accuracy = \" + str(preds[1]))"
   ]
  },
  {
   "cell_type": "code",
   "execution_count": 6,
   "metadata": {},
   "outputs": [],
   "source": [
    "model.save(\"my_model.h5\")"
   ]
  },
  {
   "cell_type": "code",
   "execution_count": null,
   "metadata": {},
   "outputs": [],
   "source": []
  }
 ],
 "metadata": {
  "kernelspec": {
   "display_name": "Python 3",
   "language": "python",
   "name": "python3"
  },
  "language_info": {
   "codemirror_mode": {
    "name": "ipython",
    "version": 3
   },
   "file_extension": ".py",
   "mimetype": "text/x-python",
   "name": "python",
   "nbconvert_exporter": "python",
   "pygments_lexer": "ipython3",
   "version": "3.6.1"
  }
 },
 "nbformat": 4,
 "nbformat_minor": 2
}
